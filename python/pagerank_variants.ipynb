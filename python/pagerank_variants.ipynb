{
 "cells": [
  {
   "cell_type": "code",
   "execution_count": 4,
   "metadata": {},
   "outputs": [],
   "source": [
    "import numpy as np"
   ]
  },
  {
   "cell_type": "code",
   "execution_count": 72,
   "metadata": {},
   "outputs": [],
   "source": [
    "graph = np.loadtxt('./input/complicatedGraph.csv',delimiter=',')"
   ]
  },
  {
   "cell_type": "code",
   "execution_count": 73,
   "metadata": {},
   "outputs": [
    {
     "data": {
      "text/plain": [
       "array([[0.  , 0.35, 0.  , 0.  , 0.  , 1.  ],\n",
       "       [0.45, 0.3 , 0.  , 0.  , 0.  , 0.  ],\n",
       "       [0.3 , 0.  , 0.  , 1.  , 0.  , 0.  ],\n",
       "       [0.  , 0.  , 1.  , 0.  , 0.  , 0.  ],\n",
       "       [0.25, 0.  , 0.  , 0.  , 0.  , 0.  ],\n",
       "       [0.  , 0.35, 0.  , 0.  , 0.  , 0.  ]])"
      ]
     },
     "execution_count": 73,
     "metadata": {},
     "output_type": "execute_result"
    }
   ],
   "source": [
    "graph"
   ]
  },
  {
   "cell_type": "markdown",
   "metadata": {},
   "source": [
    "To be an ergodic graph, consequently to be able to perform the pagerank algorithm, the graph we are evaluating must be: \n",
    "\n",
    "* Stochastic (every column's outgoing probability sums to 1)\n",
    "* Aperiodic: interval between two visits to the same state shouldn't be fixed\n",
    "* Irreducible: from any state there is non-zero probability of going from any one state to any other"
   ]
  },
  {
   "cell_type": "code",
   "execution_count": 70,
   "metadata": {},
   "outputs": [],
   "source": [
    "def pagerank(matrix, initial=None): \n",
    "    initial = np.ones(len(graph[0]))/len(graph[0]) if initial is None else initial\n",
    "    qi = initial\n",
    "    for _ in range(100):\n",
    "        qi = np.dot(matrix, qi);\n",
    "    return qi"
   ]
  },
  {
   "cell_type": "code",
   "execution_count": 71,
   "metadata": {},
   "outputs": [
    {
     "data": {
      "text/plain": [
       "array([9.41732590e-13, 9.01473577e-13, 3.03030303e-01, 3.03030303e-01,\n",
       "       3.05718980e-13, 4.09709316e-13])"
      ]
     },
     "execution_count": 71,
     "metadata": {},
     "output_type": "execute_result"
    }
   ],
   "source": [
    "pagerank(graph)"
   ]
  },
  {
   "cell_type": "markdown",
   "metadata": {},
   "source": [
    "The reason pagerank chokes on this graph is that edge e is a dead-end, so unless the algorithm got stuck alternating between c and d (spider-trap), it's importance gets sucked up by the dead end."
   ]
  },
  {
   "cell_type": "code",
   "execution_count": 74,
   "metadata": {},
   "outputs": [],
   "source": [
    "def pagerank_teleportation(matrix, initial=None, beta=0.85):\n",
    "    # This will set up initial probabilities which will \"kick-start\" page-rank    \n",
    "    initial = np.ones(len(graph[0]))/len(graph[0]) if initial is None else initial\n",
    "    qi = initial\n",
    "    \n",
    "    for _ in range(100):\n",
    "        # The equation here uses random teleportation to make the \n",
    "        qi = np.dot((beta)*matrix + (1-beta)*(np.ones_like(matrix)/len(graph[0])), qi);\n",
    "    return qi"
   ]
  },
  {
   "cell_type": "code",
   "execution_count": 75,
   "metadata": {},
   "outputs": [
    {
     "data": {
      "text/plain": [
       "array([0.00119747, 0.00106529, 0.00417822, 0.00400938, 0.00056948,\n",
       "       0.00063464])"
      ]
     },
     "execution_count": 75,
     "metadata": {},
     "output_type": "execute_result"
    }
   ],
   "source": [
    "pagerank_teleportation(graph)"
   ]
  },
  {
   "cell_type": "markdown",
   "metadata": {},
   "source": [
    "We are making progress here, we added a Irreducible factor into the graph. However, the dead end is still disruptive to analysis becasue it is sucking the importance out of the graph"
   ]
  },
  {
   "cell_type": "code",
   "execution_count": 76,
   "metadata": {},
   "outputs": [],
   "source": [
    "def pagerank_teleportation_stochastic(matrix, initial=None, beta=0.8):\n",
    "    matrix = matrix.copy()\n",
    "    # This will set up initial probabilities which will \"kick-start\" page-rank    \n",
    "    initial = np.ones(len(graph[0]))/len(graph[0]) if initial is None else initial\n",
    "    qi = initial\n",
    "    \n",
    "    # We will take care of dead-ends here\n",
    "    sum_probs = np.sum(graph, axis=0);\n",
    "    for column_index in range(len(graph[0])):\n",
    "        # Complete dead end\n",
    "        if (sum_probs[column_index] == 0):\n",
    "            graph[:,column_index] = initial;\n",
    "            print(\"changed column {} as following: \".format(column_index));\n",
    "            print(graph);\n",
    "        # Leaky dead end\n",
    "        elif (sum_probs[column_index] != 1):\n",
    "            graph[:,column_index] = graph[:,column_index] / sum_probs[column_index];\n",
    "            print(\"changed column {} as following: \".format(column_index));\n",
    "            print(graph);\n",
    "            \n",
    "    for _ in range(100):\n",
    "        # The equation here uses random teleportation to address spider traps\n",
    "        qi = np.dot((beta)*matrix + (1-beta)*(np.ones_like(matrix)/len(graph[0])), qi);\n",
    "    return qi"
   ]
  },
  {
   "cell_type": "code",
   "execution_count": 77,
   "metadata": {},
   "outputs": [
    {
     "name": "stdout",
     "output_type": "stream",
     "text": [
      "changed column 4 as following: \n",
      "[[0.         0.35       0.         0.         0.16666667 1.        ]\n",
      " [0.45       0.3        0.         0.         0.16666667 0.        ]\n",
      " [0.3        0.         0.         1.         0.16666667 0.        ]\n",
      " [0.         0.         1.         0.         0.16666667 0.        ]\n",
      " [0.25       0.         0.         0.         0.16666667 0.        ]\n",
      " [0.         0.35       0.         0.         0.16666667 0.        ]]\n"
     ]
    },
    {
     "data": {
      "text/plain": [
       "array([0.00070412, 0.00062276, 0.00186057, 0.00176407, 0.00034717,\n",
       "       0.00038244])"
      ]
     },
     "execution_count": 77,
     "metadata": {},
     "output_type": "execute_result"
    }
   ],
   "source": [
    "pagerank_teleportation_stochastic(graph)"
   ]
  },
  {
   "cell_type": "markdown",
   "metadata": {},
   "source": [
    "We have not entirely alliviated the spider trap problem, but that can easily adjusted by changing our beta parameter:"
   ]
  },
  {
   "cell_type": "code",
   "execution_count": 78,
   "metadata": {},
   "outputs": [
    {
     "data": {
      "text/plain": [
       "array([0.17394094, 0.15114286, 0.24135362, 0.22178526, 0.10306423,\n",
       "       0.10871309])"
      ]
     },
     "execution_count": 78,
     "metadata": {},
     "output_type": "execute_result"
    }
   ],
   "source": [
    "pagerank_teleportation_stochastic(graph, beta=0.6)"
   ]
  },
  {
   "cell_type": "markdown",
   "metadata": {},
   "source": [
    "Notice that if we disabled teleportation, we would get stuck in a spider trap, that is a set of nodes which alternate states but there is no way to get out of the circuit"
   ]
  },
  {
   "cell_type": "code",
   "execution_count": 79,
   "metadata": {},
   "outputs": [
    {
     "data": {
      "text/plain": [
       "array([1.43277160e-08, 1.33921293e-08, 4.99999981e-01, 4.99999979e-01,\n",
       "       5.26524059e-09, 6.57027397e-09])"
      ]
     },
     "execution_count": 79,
     "metadata": {},
     "output_type": "execute_result"
    }
   ],
   "source": [
    "pagerank_teleportation_stochastic(graph, beta=1)"
   ]
  },
  {
   "cell_type": "markdown",
   "metadata": {},
   "source": [
    "As stated above, essentially all of the matrix rank resides with nodes c and d"
   ]
  }
 ],
 "metadata": {
  "kernelspec": {
   "display_name": "Python 3",
   "language": "python",
   "name": "python3"
  },
  "language_info": {
   "codemirror_mode": {
    "name": "ipython",
    "version": 3
   },
   "file_extension": ".py",
   "mimetype": "text/x-python",
   "name": "python",
   "nbconvert_exporter": "python",
   "pygments_lexer": "ipython3",
   "version": "3.6.4"
  }
 },
 "nbformat": 4,
 "nbformat_minor": 2
}
